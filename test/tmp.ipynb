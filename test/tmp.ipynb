{
 "cells": [
  {
   "cell_type": "code",
   "execution_count": null,
   "metadata": {},
   "outputs": [],
   "source": [
    "import subprocess\n",
    "import json\n",
    "import cv2\n",
    "import numpy as np"
   ]
  },
  {
   "cell_type": "code",
   "execution_count": null,
   "metadata": {},
   "outputs": [],
   "source": [
    "# 주요함수 1. Preprocess image\n",
    "def test_contour(image_mat):\n",
    "    rgb = image_mat.copy()\n",
    "    gray_image = cv2.cvtColor(rgb, cv2.COLOR_RGB2GRAY)\n",
    "\n",
    "    grad_thresh = cv2.adaptiveThreshold(gray_image, 255, cv2.ADAPTIVE_THRESH_MEAN_C, cv2.THRESH_BINARY_INV, 3, 12)\n",
    "    contours, hierarchy = cv2.findContours(grad_thresh, cv2.RETR_EXTERNAL, cv2.CHAIN_APPROX_SIMPLE)\n",
    "\n",
    "    if len(contours) > 0:\n",
    "        for idx, contour in enumerate(contours):\n",
    "            rect = cv2.boundingRect(contour)\n",
    "            if rect[3] > 10 and rect[2] > 40 and not (rect[2] >= 512 - 5 and rect[3] >= 512 - 5):\n",
    "                cv2.rectangle(rgb, (rect[0], rect[1]), (rect[0] + rect[2], rect[1] + rect[3]), (0, 255, 0), 5)\n",
    "\n",
    "        cv2.imwrite(\"/tmp/dev/doc_original.jpg\", rgb)\n",
    "        cv2.imwrite(\"/tmp/dev/doc_gray.jpg\", gray_image)\n",
    "        cv2.imwrite(\"/tmp/dev/doc_thresh.jpg\", grad_thresh)\n",
    "        cv2.imwrite(\"/tmp/dev/doc_contour.jpg\", image_mat)\n"
   ]
  },
  {
   "cell_type": "code",
   "execution_count": null,
   "metadata": {},
   "outputs": [],
   "source": [
    "# contours를 생성\n",
    "contours_x = []\n",
    "contours_y = []\n",
    "strings_included = []"
   ]
  },
  {
   "cell_type": "code",
   "execution_count": null,
   "metadata": {},
   "outputs": [],
   "source": [
    "data = { \n",
    "    \"contours_x_coordinates\" : contours_x, \n",
    "    \"contours_y_coordinates\" : contours_y, \n",
    "    \"strings_included\" : strings_included\n",
    "}"
   ]
  },
  {
   "cell_type": "code",
   "execution_count": null,
   "metadata": {},
   "outputs": [],
   "source": [
    "# 이미지를 로드하고 함수 호출 예시\n",
    "image_path = \"your_image_path.jpg\"\n",
    "image_mat = cv2.imread(image_path)\n",
    "test_contour(image_mat)"
   ]
  },
  {
   "cell_type": "code",
   "execution_count": null,
   "metadata": {},
   "outputs": [],
   "source": [
    "# After Effects 실행 파일 경로\n",
    "after_effects_path = \"C:\\\\Program Files\\\\Adobe\\\\Adobe After Effects CC 2022\\\\Support Files\\\\AfterFX.exe\"\n",
    "\n",
    "# After Effects 스크립트 파일 경로\n",
    "script_path = \"script.jsx\"\n",
    "\n",
    "# After Effects를 백그라운드에서 실행\n",
    "subprocess.Popen([after_effects_path, \"-r\", script_path], shell=True)"
   ]
  },
  {
   "cell_type": "code",
   "execution_count": null,
   "metadata": {},
   "outputs": [],
   "source": [
    "def main():\n",
    "    video_path = \"orig.mp4\"\n",
    "    cap = cv2.VideoCapture(video_path)\n",
    "    frame_index_to_load = 100 # 원하는 프레임 인덱스 (json에서 가져오기)\n",
    "    total_frames = int(cap.get(cv2.CAP_PROP_FRAME_COUNT))\n",
    "\n",
    "    # 설정한 인덱스로 이동\n",
    "    cap.set(cv2.CAP_PROP_POS_FRAMES, frame_index_to_load)\n",
    "\n",
    "    ret, frame = cap.read()\n",
    "    if ret:\n",
    "        cv2.imshow(\"Frame\", frame)\n",
    "        cv2.waitKey(0)\n",
    "        cv2.destroyAllWindows()"
   ]
  },
  {
   "cell_type": "code",
   "execution_count": null,
   "metadata": {},
   "outputs": [],
   "source": [
    "# ~~~~\n",
    "# contours.append([])"
   ]
  },
  {
   "cell_type": "code",
   "execution_count": null,
   "metadata": {},
   "outputs": [],
   "source": [
    "if __name__ == \"__main__\":\n",
    "\tmain()"
   ]
  }
 ],
 "metadata": {
  "language_info": {
   "name": "python"
  }
 },
 "nbformat": 4,
 "nbformat_minor": 2
}
